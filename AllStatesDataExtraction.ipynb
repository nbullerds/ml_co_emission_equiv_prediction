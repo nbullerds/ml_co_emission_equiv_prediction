{
 "cells": [
  {
   "cell_type": "code",
   "execution_count": null,
   "metadata": {},
   "outputs": [],
   "source": [
    "import pandas as pd\n",
    "import os\n",
    "import requests\n",
    "from bs4 import BeautifulSoup\n",
    "from webdriver_manager.chrome import ChromeDriverManager"
   ]
  },
  {
   "cell_type": "code",
   "execution_count": null,
   "metadata": {},
   "outputs": [],
   "source": [
    "# import target, pop, and gdp data per state\n",
    "y_df = pd.read_csv('data/climatewatch-usemissions.csv', usecols=['State', 'Year', 'Population (People)','State GDP (Million US$ (chained 1997/2005))','Transportation (MtCO2e)'])\n",
    "y_df.head()"
   ]
  },
  {
   "cell_type": "code",
   "execution_count": null,
   "metadata": {},
   "outputs": [],
   "source": [
    "y_df.count()"
   ]
  },
  {
   "cell_type": "code",
   "execution_count": null,
   "metadata": {},
   "outputs": [],
   "source": [
    "# import gas usage, transit ridership, vehicle miles traveled, and vehicle data per state\n",
    "transit_df = pd.read_csv('data/transportation_usage.csv', encoding = 'utf-16', sep='\\t')\n",
    "transit_df.head()"
   ]
  },
  {
   "cell_type": "code",
   "execution_count": null,
   "metadata": {},
   "outputs": [],
   "source": [
    "### Create a column for each measure in transit_df['Measures'] and assign the appropriate values\n",
    "# Grab measure names\n",
    "measures_list = transit_df['Measures'].unique()\n",
    "\n",
    "# Limit list of measure names to gas usage, transit ridership, vehicle miles traveled, and vehicle data\n",
    "measures_list = measures_list[0:4]\n",
    "\n",
    "# Create initial dataframe based on transit ridership per state and per year\n",
    "to_merge_df = transit_df.loc[transit_df['Measures']==measures_list[0]]\n",
    "new_column_name = to_merge_df.iloc[0]['Measures']\n",
    "to_merge_df.columns=['State', 'Measures', 'Year', new_column_name]\n",
    "to_merge_df = to_merge_df.drop(columns=['Measures'])\n",
    "transit_measures_df = to_merge_df\n",
    "\n",
    "# Merge additional measures (gas usage, vehicle miles traveled, and vehicle data)\n",
    "for column in measures_list[1:4]:\n",
    "    to_merge_df = transit_df.loc[transit_df['Measures']== column]\n",
    "    new_column_name = to_merge_df.iloc[0]['Measures']\n",
    "    to_merge_df.columns=['State', 'Measures', 'Year', new_column_name]\n",
    "    to_merge_df = to_merge_df.drop(columns=['Measures'])\n",
    "    transit_measures_df = transit_measures_df.merge(to_merge_df, how = 'left', on = ['State', 'Year'])\n",
    "transit_measures_df.head()"
   ]
  },
  {
   "cell_type": "code",
   "execution_count": null,
   "metadata": {},
   "outputs": [],
   "source": [
    "# Remove null values (post csv exploration)\n",
    "transit_measures_df = transit_measures_df.loc[transit_measures_df['Year'] >= 1994]\n",
    "transit_measures_df = transit_measures_df.loc[transit_measures_df['State'] != 'Puerto Rico']\n",
    "transit_measures_df.count()"
   ]
  },
  {
   "cell_type": "code",
   "execution_count": null,
   "metadata": {},
   "outputs": [],
   "source": []
  },
  {
   "cell_type": "code",
   "execution_count": null,
   "metadata": {},
   "outputs": [],
   "source": [
    "# merge y_df and transit_measures_df\n",
    "final_df = y_df.merge(transit_measures_df, on = ['State', 'Year'])\n",
    "final_df.head()"
   ]
  },
  {
   "cell_type": "code",
   "execution_count": null,
   "metadata": {},
   "outputs": [],
   "source": [
    "final_df.count()"
   ]
  },
  {
   "cell_type": "code",
   "execution_count": null,
   "metadata": {},
   "outputs": [],
   "source": [
    "# Scrape land area (in sq mi) from:\n",
    "# https://en.wikipedia.org/wiki/List_of_U.S._states_and_territories_by_area\n",
    "wikiurl = 'https://en.wikipedia.org/wiki/List_of_U.S._states_and_territories_by_area#cite_note-2010census-2'\n",
    "\n",
    "# Check response code to ensure ability to download\n",
    "table_class=\"wikitable sortable jquery-tablesorter\"\n",
    "response=requests.get(wikiurl)\n",
    "print(response.status_code)"
   ]
  },
  {
   "cell_type": "code",
   "execution_count": null,
   "metadata": {},
   "outputs": [],
   "source": [
    "# parse data from the html into a beautifulsoup object\n",
    "soup = BeautifulSoup(response.text, 'html.parser')\n",
    "indiatable = soup.find('table',{'class':\"wikitable\"})\n",
    "wiki_area_df = pd.read_html(str(indiatable))\n",
    "\n",
    "# convert list to dataframe\n",
    "wiki_area_df = pd.DataFrame(wiki_area_df[0])\n",
    "\n",
    "# Drop unwanted level\n",
    "wiki_area_df.columns = wiki_area_df.columns.droplevel(level=0)\n",
    "wiki_area_df.head()\n",
    "\n",
    "# Grab desired column (sq mi in index 5)\n",
    "area_df = wiki_area_df.iloc[:, [0,5]]\n",
    "area_df.head()"
   ]
  },
  {
   "cell_type": "code",
   "execution_count": null,
   "metadata": {},
   "outputs": [],
   "source": [
    "# manually add a value for sq mi total for US\n",
    "us_df = wiki_area_df.loc[wiki_area_df['State']=='50 states and District of Columbia']\n",
    "us_sqmi_df = us_df.iloc[[0], [0, 5]]\n",
    "us_sqmi_df['State'] = us_sqmi_df['State'].replace({'50 states and District of Columbia': 'United States'})\n",
    "area_df = area_df.append(us_sqmi_df)\n",
    "area_df"
   ]
  },
  {
   "cell_type": "code",
   "execution_count": null,
   "metadata": {},
   "outputs": [],
   "source": [
    "final_df = final_df.merge(area_df, how='left', on = ['State'])\n",
    "final_df"
   ]
  },
  {
   "cell_type": "code",
   "execution_count": null,
   "metadata": {},
   "outputs": [],
   "source": []
  }
 ],
 "metadata": {
  "kernelspec": {
   "display_name": "Python 3",
   "language": "python",
   "name": "python3"
  },
  "language_info": {
   "codemirror_mode": {
    "name": "ipython",
    "version": 3
   },
   "file_extension": ".py",
   "mimetype": "text/x-python",
   "name": "python",
   "nbconvert_exporter": "python",
   "pygments_lexer": "ipython3",
   "version": "3.6.10"
  }
 },
 "nbformat": 4,
 "nbformat_minor": 4
}
