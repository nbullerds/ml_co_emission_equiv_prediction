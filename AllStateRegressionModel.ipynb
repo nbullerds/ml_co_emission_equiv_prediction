{
 "cells": [
  {
   "cell_type": "code",
   "execution_count": 1,
   "metadata": {},
   "outputs": [],
   "source": [
    "# Dependencies and setup (will need more)\n",
    "import numpy as np\n",
    "import os\n",
    "import pandas as pd\n",
    "import warnings\n",
    "import seaborn as sn\n",
    "import matplotlib.pyplot as plt\n",
    "warnings.simplefilter(\"ignore\")"
   ]
  },
  {
   "cell_type": "code",
   "execution_count": 2,
   "metadata": {},
   "outputs": [
    {
     "data": {
      "text/html": [
       "<div>\n",
       "<style scoped>\n",
       "    .dataframe tbody tr th:only-of-type {\n",
       "        vertical-align: middle;\n",
       "    }\n",
       "\n",
       "    .dataframe tbody tr th {\n",
       "        vertical-align: top;\n",
       "    }\n",
       "\n",
       "    .dataframe thead th {\n",
       "        text-align: right;\n",
       "    }\n",
       "</style>\n",
       "<table border=\"1\" class=\"dataframe\">\n",
       "  <thead>\n",
       "    <tr style=\"text-align: right;\">\n",
       "      <th></th>\n",
       "      <th>State</th>\n",
       "      <th>Year</th>\n",
       "      <th>Transportation (MtCO2e)</th>\n",
       "      <th>State GDP (Million US$ (chained 1997/2005))</th>\n",
       "      <th>Population (People)</th>\n",
       "      <th>Transit Ridership</th>\n",
       "      <th>Highway use of gasoline (thousand gallons)</th>\n",
       "      <th>Highway vehicle-miles traveled (millions)</th>\n",
       "      <th>Vehicles</th>\n",
       "      <th>sq mi</th>\n",
       "      <th>tempHigh</th>\n",
       "    </tr>\n",
       "  </thead>\n",
       "  <tbody>\n",
       "    <tr>\n",
       "      <th>0</th>\n",
       "      <td>Alabama</td>\n",
       "      <td>1994</td>\n",
       "      <td>32.389399</td>\n",
       "      <td>94803.0</td>\n",
       "      <td>4260229</td>\n",
       "      <td>9.682137e+06</td>\n",
       "      <td>2220444.0</td>\n",
       "      <td>4.895600e+04</td>\n",
       "      <td>3176560.0</td>\n",
       "      <td>50645.33</td>\n",
       "      <td>74.10</td>\n",
       "    </tr>\n",
       "    <tr>\n",
       "      <th>1</th>\n",
       "      <td>Alaska</td>\n",
       "      <td>1994</td>\n",
       "      <td>11.402707</td>\n",
       "      <td>26188.0</td>\n",
       "      <td>603308</td>\n",
       "      <td>3.097134e+06</td>\n",
       "      <td>273319.0</td>\n",
       "      <td>4.150000e+03</td>\n",
       "      <td>533496.0</td>\n",
       "      <td>570640.95</td>\n",
       "      <td>33.70</td>\n",
       "    </tr>\n",
       "    <tr>\n",
       "      <th>2</th>\n",
       "      <td>Arizona</td>\n",
       "      <td>1994</td>\n",
       "      <td>27.085805</td>\n",
       "      <td>104104.0</td>\n",
       "      <td>4245089</td>\n",
       "      <td>5.289982e+07</td>\n",
       "      <td>1899942.0</td>\n",
       "      <td>3.877400e+04</td>\n",
       "      <td>2813460.0</td>\n",
       "      <td>113594.08</td>\n",
       "      <td>74.70</td>\n",
       "    </tr>\n",
       "    <tr>\n",
       "      <th>3</th>\n",
       "      <td>Arkansas</td>\n",
       "      <td>1994</td>\n",
       "      <td>19.010329</td>\n",
       "      <td>53641.0</td>\n",
       "      <td>2494019</td>\n",
       "      <td>4.535502e+06</td>\n",
       "      <td>1286100.0</td>\n",
       "      <td>2.494800e+04</td>\n",
       "      <td>1566840.0</td>\n",
       "      <td>52035.48</td>\n",
       "      <td>71.10</td>\n",
       "    </tr>\n",
       "    <tr>\n",
       "      <th>4</th>\n",
       "      <td>California</td>\n",
       "      <td>1994</td>\n",
       "      <td>206.555572</td>\n",
       "      <td>904778.0</td>\n",
       "      <td>31484435</td>\n",
       "      <td>1.130728e+09</td>\n",
       "      <td>12932907.0</td>\n",
       "      <td>2.719430e+05</td>\n",
       "      <td>22338870.0</td>\n",
       "      <td>155779.22</td>\n",
       "      <td>70.60</td>\n",
       "    </tr>\n",
       "    <tr>\n",
       "      <th>...</th>\n",
       "      <td>...</td>\n",
       "      <td>...</td>\n",
       "      <td>...</td>\n",
       "      <td>...</td>\n",
       "      <td>...</td>\n",
       "      <td>...</td>\n",
       "      <td>...</td>\n",
       "      <td>...</td>\n",
       "      <td>...</td>\n",
       "      <td>...</td>\n",
       "      <td>...</td>\n",
       "    </tr>\n",
       "    <tr>\n",
       "      <th>1269</th>\n",
       "      <td>Washington</td>\n",
       "      <td>2018</td>\n",
       "      <td>47.607909</td>\n",
       "      <td>524486.9</td>\n",
       "      <td>7523869</td>\n",
       "      <td>2.702230e+08</td>\n",
       "      <td>2765858.0</td>\n",
       "      <td>6.236666e+04</td>\n",
       "      <td>7152413.0</td>\n",
       "      <td>66455.52</td>\n",
       "      <td>57.70</td>\n",
       "    </tr>\n",
       "    <tr>\n",
       "      <th>1270</th>\n",
       "      <td>West Virginia</td>\n",
       "      <td>2018</td>\n",
       "      <td>13.154700</td>\n",
       "      <td>71858.7</td>\n",
       "      <td>1804291</td>\n",
       "      <td>7.762619e+06</td>\n",
       "      <td>791672.0</td>\n",
       "      <td>1.944732e+04</td>\n",
       "      <td>1693719.0</td>\n",
       "      <td>24038.21</td>\n",
       "      <td>63.30</td>\n",
       "    </tr>\n",
       "    <tr>\n",
       "      <th>1271</th>\n",
       "      <td>Wisconsin</td>\n",
       "      <td>2018</td>\n",
       "      <td>31.257005</td>\n",
       "      <td>303767.4</td>\n",
       "      <td>5807406</td>\n",
       "      <td>5.896453e+07</td>\n",
       "      <td>2491234.0</td>\n",
       "      <td>6.588543e+04</td>\n",
       "      <td>5683061.0</td>\n",
       "      <td>54157.80</td>\n",
       "      <td>53.10</td>\n",
       "    </tr>\n",
       "    <tr>\n",
       "      <th>1272</th>\n",
       "      <td>Wyoming</td>\n",
       "      <td>2018</td>\n",
       "      <td>8.110488</td>\n",
       "      <td>38696.3</td>\n",
       "      <td>577601</td>\n",
       "      <td>2.504852e+06</td>\n",
       "      <td>294731.0</td>\n",
       "      <td>1.043844e+04</td>\n",
       "      <td>837024.0</td>\n",
       "      <td>97093.14</td>\n",
       "      <td>55.50</td>\n",
       "    </tr>\n",
       "    <tr>\n",
       "      <th>1273</th>\n",
       "      <td>United States</td>\n",
       "      <td>2018</td>\n",
       "      <td>1963.615455</td>\n",
       "      <td>18687786.0</td>\n",
       "      <td>326687501</td>\n",
       "      <td>9.862598e+09</td>\n",
       "      <td>135336713.0</td>\n",
       "      <td>3.240327e+06</td>\n",
       "      <td>273602100.0</td>\n",
       "      <td>3531905.43</td>\n",
       "      <td>65.09</td>\n",
       "    </tr>\n",
       "  </tbody>\n",
       "</table>\n",
       "<p>1249 rows × 11 columns</p>\n",
       "</div>"
      ],
      "text/plain": [
       "              State  Year  Transportation (MtCO2e)  \\\n",
       "0           Alabama  1994                32.389399   \n",
       "1            Alaska  1994                11.402707   \n",
       "2           Arizona  1994                27.085805   \n",
       "3          Arkansas  1994                19.010329   \n",
       "4        California  1994               206.555572   \n",
       "...             ...   ...                      ...   \n",
       "1269     Washington  2018                47.607909   \n",
       "1270  West Virginia  2018                13.154700   \n",
       "1271      Wisconsin  2018                31.257005   \n",
       "1272        Wyoming  2018                 8.110488   \n",
       "1273  United States  2018              1963.615455   \n",
       "\n",
       "      State GDP (Million US$ (chained 1997/2005))  Population (People)  \\\n",
       "0                                         94803.0              4260229   \n",
       "1                                         26188.0               603308   \n",
       "2                                        104104.0              4245089   \n",
       "3                                         53641.0              2494019   \n",
       "4                                        904778.0             31484435   \n",
       "...                                           ...                  ...   \n",
       "1269                                     524486.9              7523869   \n",
       "1270                                      71858.7              1804291   \n",
       "1271                                     303767.4              5807406   \n",
       "1272                                      38696.3               577601   \n",
       "1273                                   18687786.0            326687501   \n",
       "\n",
       "      Transit Ridership  Highway use of gasoline (thousand gallons)  \\\n",
       "0          9.682137e+06                                   2220444.0   \n",
       "1          3.097134e+06                                    273319.0   \n",
       "2          5.289982e+07                                   1899942.0   \n",
       "3          4.535502e+06                                   1286100.0   \n",
       "4          1.130728e+09                                  12932907.0   \n",
       "...                 ...                                         ...   \n",
       "1269       2.702230e+08                                   2765858.0   \n",
       "1270       7.762619e+06                                    791672.0   \n",
       "1271       5.896453e+07                                   2491234.0   \n",
       "1272       2.504852e+06                                    294731.0   \n",
       "1273       9.862598e+09                                 135336713.0   \n",
       "\n",
       "      Highway vehicle-miles traveled (millions)     Vehicles       sq mi  \\\n",
       "0                                  4.895600e+04    3176560.0    50645.33   \n",
       "1                                  4.150000e+03     533496.0   570640.95   \n",
       "2                                  3.877400e+04    2813460.0   113594.08   \n",
       "3                                  2.494800e+04    1566840.0    52035.48   \n",
       "4                                  2.719430e+05   22338870.0   155779.22   \n",
       "...                                         ...          ...         ...   \n",
       "1269                               6.236666e+04    7152413.0    66455.52   \n",
       "1270                               1.944732e+04    1693719.0    24038.21   \n",
       "1271                               6.588543e+04    5683061.0    54157.80   \n",
       "1272                               1.043844e+04     837024.0    97093.14   \n",
       "1273                               3.240327e+06  273602100.0  3531905.43   \n",
       "\n",
       "      tempHigh  \n",
       "0        74.10  \n",
       "1        33.70  \n",
       "2        74.70  \n",
       "3        71.10  \n",
       "4        70.60  \n",
       "...        ...  \n",
       "1269     57.70  \n",
       "1270     63.30  \n",
       "1271     53.10  \n",
       "1272     55.50  \n",
       "1273     65.09  \n",
       "\n",
       "[1249 rows x 11 columns]"
      ]
     },
     "execution_count": 2,
     "metadata": {},
     "output_type": "execute_result"
    }
   ],
   "source": [
    "# Read CSV into DataFrame\n",
    "annualData = pd.read_csv(\"resources/annualAllStateData.csv\")\n",
    "\n",
    "# Drop the null rows\n",
    "annualData = annualData.dropna()\n",
    "\n",
    "# Display DataFrame\n",
    "annualData"
   ]
  },
  {
   "cell_type": "code",
   "execution_count": 3,
   "metadata": {},
   "outputs": [],
   "source": [
    "annualData = annualData.loc[annualData['State'] != 'United States']"
   ]
  },
  {
   "cell_type": "markdown",
   "metadata": {},
   "source": [
    "# Feature Selection"
   ]
  },
  {
   "cell_type": "code",
   "execution_count": 4,
   "metadata": {},
   "outputs": [
    {
     "data": {
      "text/html": [
       "<div>\n",
       "<style scoped>\n",
       "    .dataframe tbody tr th:only-of-type {\n",
       "        vertical-align: middle;\n",
       "    }\n",
       "\n",
       "    .dataframe tbody tr th {\n",
       "        vertical-align: top;\n",
       "    }\n",
       "\n",
       "    .dataframe thead th {\n",
       "        text-align: right;\n",
       "    }\n",
       "</style>\n",
       "<table border=\"1\" class=\"dataframe\">\n",
       "  <thead>\n",
       "    <tr style=\"text-align: right;\">\n",
       "      <th></th>\n",
       "      <th>State GDP (Million US$ (chained 1997/2005))</th>\n",
       "      <th>Population (People)</th>\n",
       "      <th>Transit Ridership</th>\n",
       "      <th>Highway use of gasoline (thousand gallons)</th>\n",
       "      <th>Highway vehicle-miles traveled (millions)</th>\n",
       "      <th>Vehicles</th>\n",
       "      <th>sq mi</th>\n",
       "      <th>tempHigh</th>\n",
       "    </tr>\n",
       "  </thead>\n",
       "  <tbody>\n",
       "    <tr>\n",
       "      <th>0</th>\n",
       "      <td>94803.0</td>\n",
       "      <td>4260229</td>\n",
       "      <td>9.682137e+06</td>\n",
       "      <td>2220444.0</td>\n",
       "      <td>48956.0</td>\n",
       "      <td>3176560.0</td>\n",
       "      <td>50645.33</td>\n",
       "      <td>74.1</td>\n",
       "    </tr>\n",
       "    <tr>\n",
       "      <th>1</th>\n",
       "      <td>26188.0</td>\n",
       "      <td>603308</td>\n",
       "      <td>3.097134e+06</td>\n",
       "      <td>273319.0</td>\n",
       "      <td>4150.0</td>\n",
       "      <td>533496.0</td>\n",
       "      <td>570640.95</td>\n",
       "      <td>33.7</td>\n",
       "    </tr>\n",
       "    <tr>\n",
       "      <th>2</th>\n",
       "      <td>104104.0</td>\n",
       "      <td>4245089</td>\n",
       "      <td>5.289982e+07</td>\n",
       "      <td>1899942.0</td>\n",
       "      <td>38774.0</td>\n",
       "      <td>2813460.0</td>\n",
       "      <td>113594.08</td>\n",
       "      <td>74.7</td>\n",
       "    </tr>\n",
       "    <tr>\n",
       "      <th>3</th>\n",
       "      <td>53641.0</td>\n",
       "      <td>2494019</td>\n",
       "      <td>4.535502e+06</td>\n",
       "      <td>1286100.0</td>\n",
       "      <td>24948.0</td>\n",
       "      <td>1566840.0</td>\n",
       "      <td>52035.48</td>\n",
       "      <td>71.1</td>\n",
       "    </tr>\n",
       "    <tr>\n",
       "      <th>4</th>\n",
       "      <td>904778.0</td>\n",
       "      <td>31484435</td>\n",
       "      <td>1.130728e+09</td>\n",
       "      <td>12932907.0</td>\n",
       "      <td>271943.0</td>\n",
       "      <td>22338870.0</td>\n",
       "      <td>155779.22</td>\n",
       "      <td>70.6</td>\n",
       "    </tr>\n",
       "  </tbody>\n",
       "</table>\n",
       "</div>"
      ],
      "text/plain": [
       "   State GDP (Million US$ (chained 1997/2005))  Population (People)  \\\n",
       "0                                      94803.0              4260229   \n",
       "1                                      26188.0               603308   \n",
       "2                                     104104.0              4245089   \n",
       "3                                      53641.0              2494019   \n",
       "4                                     904778.0             31484435   \n",
       "\n",
       "   Transit Ridership  Highway use of gasoline (thousand gallons)  \\\n",
       "0       9.682137e+06                                   2220444.0   \n",
       "1       3.097134e+06                                    273319.0   \n",
       "2       5.289982e+07                                   1899942.0   \n",
       "3       4.535502e+06                                   1286100.0   \n",
       "4       1.130728e+09                                  12932907.0   \n",
       "\n",
       "   Highway vehicle-miles traveled (millions)    Vehicles      sq mi  tempHigh  \n",
       "0                                    48956.0   3176560.0   50645.33      74.1  \n",
       "1                                     4150.0    533496.0  570640.95      33.7  \n",
       "2                                    38774.0   2813460.0  113594.08      74.7  \n",
       "3                                    24948.0   1566840.0   52035.48      71.1  \n",
       "4                                   271943.0  22338870.0  155779.22      70.6  "
      ]
     },
     "execution_count": 4,
     "metadata": {},
     "output_type": "execute_result"
    }
   ],
   "source": [
    "# Set features to be used as x values\n",
    "features = annualData.drop(columns=['Transportation (MtCO2e)','State', 'Year'])\n",
    "X = features\n",
    "X.head()"
   ]
  },
  {
   "cell_type": "code",
   "execution_count": null,
   "metadata": {},
   "outputs": [],
   "source": [
    "# Develop correlation matrix\n",
    "X.corr()\n",
    "corrMatrix = X.corr()\n",
    "\n",
    "# Show result of correlation matrix\n",
    "plt.figure(figsize=(25,25))\n",
    "\n",
    "sn.heatmap(corrMatrix, annot=True)\n",
    "\n",
    "plt.savefig(\"Resources/mnCorr.png\")\n",
    "\n",
    "plt.show()"
   ]
  },
  {
   "cell_type": "code",
   "execution_count": 5,
   "metadata": {},
   "outputs": [
    {
     "data": {
      "text/html": [
       "<div>\n",
       "<style scoped>\n",
       "    .dataframe tbody tr th:only-of-type {\n",
       "        vertical-align: middle;\n",
       "    }\n",
       "\n",
       "    .dataframe tbody tr th {\n",
       "        vertical-align: top;\n",
       "    }\n",
       "\n",
       "    .dataframe thead th {\n",
       "        text-align: right;\n",
       "    }\n",
       "</style>\n",
       "<table border=\"1\" class=\"dataframe\">\n",
       "  <thead>\n",
       "    <tr style=\"text-align: right;\">\n",
       "      <th></th>\n",
       "      <th>State GDP (Million US$ (chained 1997/2005))</th>\n",
       "      <th>Population (People)</th>\n",
       "      <th>Transit Ridership</th>\n",
       "      <th>Highway vehicle-miles traveled (millions)</th>\n",
       "      <th>sq mi</th>\n",
       "      <th>tempHigh</th>\n",
       "    </tr>\n",
       "  </thead>\n",
       "  <tbody>\n",
       "    <tr>\n",
       "      <th>0</th>\n",
       "      <td>94803.0</td>\n",
       "      <td>4260229</td>\n",
       "      <td>9.682137e+06</td>\n",
       "      <td>48956.0</td>\n",
       "      <td>50645.33</td>\n",
       "      <td>74.1</td>\n",
       "    </tr>\n",
       "    <tr>\n",
       "      <th>1</th>\n",
       "      <td>26188.0</td>\n",
       "      <td>603308</td>\n",
       "      <td>3.097134e+06</td>\n",
       "      <td>4150.0</td>\n",
       "      <td>570640.95</td>\n",
       "      <td>33.7</td>\n",
       "    </tr>\n",
       "    <tr>\n",
       "      <th>2</th>\n",
       "      <td>104104.0</td>\n",
       "      <td>4245089</td>\n",
       "      <td>5.289982e+07</td>\n",
       "      <td>38774.0</td>\n",
       "      <td>113594.08</td>\n",
       "      <td>74.7</td>\n",
       "    </tr>\n",
       "    <tr>\n",
       "      <th>3</th>\n",
       "      <td>53641.0</td>\n",
       "      <td>2494019</td>\n",
       "      <td>4.535502e+06</td>\n",
       "      <td>24948.0</td>\n",
       "      <td>52035.48</td>\n",
       "      <td>71.1</td>\n",
       "    </tr>\n",
       "    <tr>\n",
       "      <th>4</th>\n",
       "      <td>904778.0</td>\n",
       "      <td>31484435</td>\n",
       "      <td>1.130728e+09</td>\n",
       "      <td>271943.0</td>\n",
       "      <td>155779.22</td>\n",
       "      <td>70.6</td>\n",
       "    </tr>\n",
       "  </tbody>\n",
       "</table>\n",
       "</div>"
      ],
      "text/plain": [
       "   State GDP (Million US$ (chained 1997/2005))  Population (People)  \\\n",
       "0                                      94803.0              4260229   \n",
       "1                                      26188.0               603308   \n",
       "2                                     104104.0              4245089   \n",
       "3                                      53641.0              2494019   \n",
       "4                                     904778.0             31484435   \n",
       "\n",
       "   Transit Ridership  Highway vehicle-miles traveled (millions)      sq mi  \\\n",
       "0       9.682137e+06                                    48956.0   50645.33   \n",
       "1       3.097134e+06                                     4150.0  570640.95   \n",
       "2       5.289982e+07                                    38774.0  113594.08   \n",
       "3       4.535502e+06                                    24948.0   52035.48   \n",
       "4       1.130728e+09                                   271943.0  155779.22   \n",
       "\n",
       "   tempHigh  \n",
       "0      74.1  \n",
       "1      33.7  \n",
       "2      74.7  \n",
       "3      71.1  \n",
       "4      70.6  "
      ]
     },
     "execution_count": 5,
     "metadata": {},
     "output_type": "execute_result"
    }
   ],
   "source": [
    "# Re-set features to be used as x values, given above correlation\n",
    "features = annualData.drop(columns=['Transportation (MtCO2e)','State', 'Highway use of gasoline (thousand gallons)', 'Vehicles', 'Year'])\n",
    "X = features\n",
    "X.head()"
   ]
  },
  {
   "cell_type": "code",
   "execution_count": null,
   "metadata": {},
   "outputs": [],
   "source": [
    "# Re-develop correlation matrix with new features\n",
    "X.corr()\n",
    "corrMatrix = X.corr()\n",
    "\n",
    "# Show result of correlation matrix\n",
    "plt.figure(figsize=(25,25))\n",
    "\n",
    "sn.heatmap(corrMatrix, annot=True)\n",
    "\n",
    "plt.savefig(\"Resources/mnCorr.png\")\n",
    "\n",
    "plt.show()"
   ]
  },
  {
   "cell_type": "markdown",
   "metadata": {},
   "source": [
    "# Multiple Linear Regression"
   ]
  },
  {
   "cell_type": "markdown",
   "metadata": {},
   "source": [
    "### Create a Train-Test Split\n",
    "Use mnGHG for the y values."
   ]
  },
  {
   "cell_type": "code",
   "execution_count": 6,
   "metadata": {},
   "outputs": [
    {
     "name": "stdout",
     "output_type": "stream",
     "text": [
      "(1224, 6) (1224, 1)\n"
     ]
    }
   ],
   "source": [
    "# Set y values\n",
    "y = annualData['Transportation (MtCO2e)'].values.reshape(-1, 1)\n",
    "print(X.shape, y.shape)"
   ]
  },
  {
   "cell_type": "code",
   "execution_count": 7,
   "metadata": {},
   "outputs": [
    {
     "name": "stdout",
     "output_type": "stream",
     "text": [
      "[[32.38939867]\n",
      " [11.40270658]\n",
      " [27.08580517]\n",
      " ...\n",
      " [13.15470028]\n",
      " [31.25700488]\n",
      " [ 8.11048825]]\n"
     ]
    }
   ],
   "source": [
    "print(y)"
   ]
  },
  {
   "cell_type": "code",
   "execution_count": 8,
   "metadata": {},
   "outputs": [
    {
     "data": {
      "text/html": [
       "<div>\n",
       "<style scoped>\n",
       "    .dataframe tbody tr th:only-of-type {\n",
       "        vertical-align: middle;\n",
       "    }\n",
       "\n",
       "    .dataframe tbody tr th {\n",
       "        vertical-align: top;\n",
       "    }\n",
       "\n",
       "    .dataframe thead th {\n",
       "        text-align: right;\n",
       "    }\n",
       "</style>\n",
       "<table border=\"1\" class=\"dataframe\">\n",
       "  <thead>\n",
       "    <tr style=\"text-align: right;\">\n",
       "      <th></th>\n",
       "      <th>State GDP (Million US$ (chained 1997/2005))</th>\n",
       "      <th>Population (People)</th>\n",
       "      <th>Transit Ridership</th>\n",
       "      <th>Highway vehicle-miles traveled (millions)</th>\n",
       "      <th>sq mi</th>\n",
       "      <th>tempHigh</th>\n",
       "    </tr>\n",
       "  </thead>\n",
       "  <tbody>\n",
       "    <tr>\n",
       "      <th>31</th>\n",
       "      <td>596435.0</td>\n",
       "      <td>18459470</td>\n",
       "      <td>2.349900e+09</td>\n",
       "      <td>112970.00000</td>\n",
       "      <td>47126.40</td>\n",
       "      <td>54.7</td>\n",
       "    </tr>\n",
       "    <tr>\n",
       "      <th>251</th>\n",
       "      <td>186541.0</td>\n",
       "      <td>5297672</td>\n",
       "      <td>9.518144e+07</td>\n",
       "      <td>56655.00000</td>\n",
       "      <td>54157.80</td>\n",
       "      <td>57.4</td>\n",
       "    </tr>\n",
       "    <tr>\n",
       "      <th>484</th>\n",
       "      <td>70242.0</td>\n",
       "      <td>1738643</td>\n",
       "      <td>6.222364e+06</td>\n",
       "      <td>19016.00000</td>\n",
       "      <td>76824.17</td>\n",
       "      <td>62.6</td>\n",
       "    </tr>\n",
       "    <tr>\n",
       "      <th>141</th>\n",
       "      <td>19410.0</td>\n",
       "      <td>742213</td>\n",
       "      <td>8.495030e+05</td>\n",
       "      <td>7817.00000</td>\n",
       "      <td>75811.00</td>\n",
       "      <td>53.0</td>\n",
       "    </tr>\n",
       "    <tr>\n",
       "      <th>1073</th>\n",
       "      <td>112938.9</td>\n",
       "      <td>2978048</td>\n",
       "      <td>6.694851e+06</td>\n",
       "      <td>34897.33423</td>\n",
       "      <td>52035.48</td>\n",
       "      <td>71.9</td>\n",
       "    </tr>\n",
       "  </tbody>\n",
       "</table>\n",
       "</div>"
      ],
      "text/plain": [
       "      State GDP (Million US$ (chained 1997/2005))  Population (People)  \\\n",
       "31                                       596435.0             18459470   \n",
       "251                                      186541.0              5297672   \n",
       "484                                       70242.0              1738643   \n",
       "141                                       19410.0               742213   \n",
       "1073                                     112938.9              2978048   \n",
       "\n",
       "      Transit Ridership  Highway vehicle-miles traveled (millions)     sq mi  \\\n",
       "31         2.349900e+09                               112970.00000  47126.40   \n",
       "251        9.518144e+07                                56655.00000  54157.80   \n",
       "484        6.222364e+06                                19016.00000  76824.17   \n",
       "141        8.495030e+05                                 7817.00000  75811.00   \n",
       "1073       6.694851e+06                                34897.33423  52035.48   \n",
       "\n",
       "      tempHigh  \n",
       "31        54.7  \n",
       "251       57.4  \n",
       "484       62.6  \n",
       "141       53.0  \n",
       "1073      71.9  "
      ]
     },
     "execution_count": 8,
     "metadata": {},
     "output_type": "execute_result"
    }
   ],
   "source": [
    "# Dependencies and setup\n",
    "from sklearn.model_selection import train_test_split\n",
    "\n",
    "# Use train-test split to create training and testing data\n",
    "X_train, X_test, y_train, y_test = train_test_split(X, y, random_state = 42)\n",
    "X_train.head()"
   ]
  },
  {
   "cell_type": "markdown",
   "metadata": {},
   "source": [
    "### Pre-Processing\n",
    "Scale the data using the StandardScaler and perform some feature selection."
   ]
  },
  {
   "cell_type": "code",
   "execution_count": 9,
   "metadata": {},
   "outputs": [],
   "source": [
    "# Dependencies and setup\n",
    "from sklearn.preprocessing import StandardScaler\n",
    "\n",
    "# Scale data\n",
    "X_scale = StandardScaler().fit(X_train)\n",
    "X_train_scaled = X_scale.transform(X_train)\n",
    "X_test_scaled = X_scale.transform(X_test)"
   ]
  },
  {
   "cell_type": "markdown",
   "metadata": {},
   "source": [
    "### Train the Linear Regression Model"
   ]
  },
  {
   "cell_type": "code",
   "execution_count": 10,
   "metadata": {},
   "outputs": [],
   "source": [
    "# Dependencies and setup\n",
    "from sklearn.linear_model import LinearRegression\n",
    "model = LinearRegression()"
   ]
  },
  {
   "cell_type": "code",
   "execution_count": 11,
   "metadata": {},
   "outputs": [
    {
     "name": "stdout",
     "output_type": "stream",
     "text": [
      "Training Score: 0.956382427410011\n",
      "Testing Score: 0.953817967738916\n"
     ]
    }
   ],
   "source": [
    "# Fit the model to the training data and calculate scores for training and testing data\n",
    "model.fit(X_train_scaled, y_train)\n",
    "training_score = model.score(X_train_scaled, y_train)\n",
    "testing_score = model.score(X_test_scaled, y_test)\n",
    "print(f\"Training Score: {training_score}\")\n",
    "print(f\"Testing Score: {testing_score}\")"
   ]
  },
  {
   "cell_type": "markdown",
   "metadata": {},
   "source": [
    "### Coefficients (Independent Values)"
   ]
  },
  {
   "cell_type": "code",
   "execution_count": 12,
   "metadata": {},
   "outputs": [
    {
     "name": "stdout",
     "output_type": "stream",
     "text": [
      "[[-1.12059706 36.59716076 -6.65646531  6.30468334  4.46556114  3.11017275]]\n"
     ]
    }
   ],
   "source": [
    "# Display coefficient factors\n",
    "print(model.coef_)"
   ]
  },
  {
   "cell_type": "code",
   "execution_count": 13,
   "metadata": {},
   "outputs": [
    {
     "name": "stdout",
     "output_type": "stream",
     "text": [
      "[38.87467442]\n"
     ]
    }
   ],
   "source": [
    "# Display intercept\n",
    "print(model.intercept_)"
   ]
  },
  {
   "cell_type": "code",
   "execution_count": 23,
   "metadata": {},
   "outputs": [
    {
     "name": "stdout",
     "output_type": "stream",
     "text": [
      "The linear model is: Y = 38.875 + -1.1206*GDP + 36.597*Population + -6.6565*Transit + 6.3047*VMT + 4.4656*SQMI + 3.1102*Temp\n"
     ]
    }
   ],
   "source": [
    "# Generate regression equation\n",
    "print(\"The linear model is: Y = {:.5} + {:.5}*GDP + {:.5}*Population + {:.5}*Transit + {:.5}*VMT + {:.5}*SQMI + {:.5}*Temp\".format(model.intercept_[0], model.coef_[0][0], model.coef_[0][1], model.coef_[0][2], model.coef_[0][3], model.coef_[0][4], model.coef_[0][5]))"
   ]
  },
  {
   "cell_type": "code",
   "execution_count": 14,
   "metadata": {},
   "outputs": [
    {
     "data": {
      "text/plain": [
       "0.953817967738916"
      ]
     },
     "execution_count": 14,
     "metadata": {},
     "output_type": "execute_result"
    }
   ],
   "source": [
    "# R squared\n",
    "model.score(X_test_scaled, y_test, sample_weight = None)"
   ]
  },
  {
   "cell_type": "code",
   "execution_count": 15,
   "metadata": {},
   "outputs": [
    {
     "data": {
      "text/plain": [
       "array([[ 13.21350559],\n",
       "       [ 12.63707102],\n",
       "       [ 54.56146486],\n",
       "       [168.24976787],\n",
       "       [ 69.17802003],\n",
       "       [ 22.58282139],\n",
       "       [ 10.91935779],\n",
       "       [ 32.05518002],\n",
       "       [ 34.50114701],\n",
       "       [ 33.0478583 ]])"
      ]
     },
     "execution_count": 15,
     "metadata": {},
     "output_type": "execute_result"
    }
   ],
   "source": [
    "# Make predictions with the hypertuned model\n",
    "predictions = model.predict(X_test_scaled)\n",
    "predictions[:10]"
   ]
  },
  {
   "cell_type": "code",
   "execution_count": 16,
   "metadata": {},
   "outputs": [
    {
     "data": {
      "text/plain": [
       "array([[ 12.80369547],\n",
       "       [ 14.09660168],\n",
       "       [ 60.65783737],\n",
       "       [207.1970538 ],\n",
       "       [ 69.47666777],\n",
       "       [ 25.47875385],\n",
       "       [ 10.95469455],\n",
       "       [ 60.77204619],\n",
       "       [ 32.85436401],\n",
       "       [ 31.95376058]])"
      ]
     },
     "execution_count": 16,
     "metadata": {},
     "output_type": "execute_result"
    }
   ],
   "source": [
    "y_test[:10]"
   ]
  },
  {
   "cell_type": "code",
   "execution_count": 17,
   "metadata": {},
   "outputs": [
    {
     "data": {
      "text/plain": [
       "85.70827538721714"
      ]
     },
     "execution_count": 17,
     "metadata": {},
     "output_type": "execute_result"
    }
   ],
   "source": [
    "# Dependencies and setup\n",
    "from sklearn.metrics import mean_squared_error, mean_absolute_error\n",
    "\n",
    "# MSE\n",
    "y_true = y_test\n",
    "y_pred = predictions\n",
    "mean_squared_error(y_true, y_pred)"
   ]
  },
  {
   "cell_type": "code",
   "execution_count": 18,
   "metadata": {},
   "outputs": [
    {
     "data": {
      "text/plain": [
       "5.476542280548621"
      ]
     },
     "execution_count": 18,
     "metadata": {},
     "output_type": "execute_result"
    }
   ],
   "source": [
    "# MAE\n",
    "mean_absolute_error(y_true, y_pred)"
   ]
  },
  {
   "cell_type": "code",
   "execution_count": 19,
   "metadata": {},
   "outputs": [
    {
     "data": {
      "text/plain": [
       "9.257876397274762"
      ]
     },
     "execution_count": 19,
     "metadata": {},
     "output_type": "execute_result"
    }
   ],
   "source": [
    "# RMSE\n",
    "np.sqrt(mean_squared_error(y_true, y_pred))"
   ]
  },
  {
   "cell_type": "code",
   "execution_count": null,
   "metadata": {},
   "outputs": [],
   "source": []
  }
 ],
 "metadata": {
  "kernelspec": {
   "display_name": "Python 3",
   "language": "python",
   "name": "python3"
  },
  "language_info": {
   "codemirror_mode": {
    "name": "ipython",
    "version": 3
   },
   "file_extension": ".py",
   "mimetype": "text/x-python",
   "name": "python",
   "nbconvert_exporter": "python",
   "pygments_lexer": "ipython3",
   "version": "3.6.10"
  }
 },
 "nbformat": 4,
 "nbformat_minor": 4
}
